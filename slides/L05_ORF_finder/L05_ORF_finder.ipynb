{
 "cells": [
  {
   "cell_type": "markdown",
   "id": "441c7871",
   "metadata": {
    "slideshow": {
     "slide_type": "slide"
    }
   },
   "source": [
    "## Warm up problem: Write a function that squares a number\n",
    "## Write a function that divides a number by 3 \n",
    "## Using those two functions, write a function that takes a number, squares it, and divides the output by three \n",
    "## If you input the number 912, what is the output?"
   ]
  },
  {
   "cell_type": "code",
   "execution_count": 1,
   "id": "017fd2c7",
   "metadata": {
    "slideshow": {
     "slide_type": "fragment"
    }
   },
   "outputs": [],
   "source": [
    "# your code here\n"
   ]
  },
  {
   "cell_type": "markdown",
   "id": "cc9f12c6",
   "metadata": {
    "slideshow": {
     "slide_type": "slide"
    }
   },
   "source": [
    "# Great! you're an expert in functions now. \n",
    "## Challenge: Write a function that takes a string input and returns a list of the start codon positions \n",
    "## Write another function that takes a string input and returns a list of the stop codon positions\n",
    "\n",
    "(You can use a lot of the code you wrote in the last lesson)"
   ]
  },
  {
   "cell_type": "code",
   "execution_count": 3,
   "id": "6af5078a",
   "metadata": {
    "slideshow": {
     "slide_type": "subslide"
    }
   },
   "outputs": [],
   "source": [
    "# your code here\n"
   ]
  },
  {
   "cell_type": "code",
   "execution_count": 124,
   "id": "cb30f8d1",
   "metadata": {
    "slideshow": {
     "slide_type": "fragment"
    }
   },
   "outputs": [
    {
     "name": "stdout",
     "output_type": "stream",
     "text": [
      "[0, 79]\n",
      "[7, 16, 46, 55, 77, 80]\n"
     ]
    }
   ],
   "source": [
    "rna_sequence = 'AUGUUUUUGAUACUUUUAAUUUCCUUACCAACGGCUUUUGCUGUUAUAGGAGAUUUAAAGUGUACUACAGUUUCCAUUAAUGAU'\n",
    "print(find_start_codons(rna_sequence))\n",
    "print(find_stop_codons(rna_sequence))"
   ]
  },
  {
   "cell_type": "markdown",
   "id": "a26cd2fb",
   "metadata": {
    "slideshow": {
     "slide_type": "slide"
    }
   },
   "source": [
    "## Lists are great for storing data but what if you had a list that was 1,000 elements long? \n",
    "## Imagine getting the 900th index of the list \n",
    "## What if you could just look up the actual element and get the value? "
   ]
  },
  {
   "cell_type": "markdown",
   "id": "843df769",
   "metadata": {
    "slideshow": {
     "slide_type": "slide"
    }
   },
   "source": [
    "## python dictionaries are datatype that let you look up a 'value' by providing a 'key'\n",
    "## you define a dictionary using curly braces `{}` or the word `dict`\n",
    "```\n",
    "empty_dict = {}\n",
    "empty_dict_2 = dict()\n",
    "\n",
    "```\n"
   ]
  },
  {
   "cell_type": "markdown",
   "id": "14c1464e",
   "metadata": {
    "slideshow": {
     "slide_type": "slide"
    }
   },
   "source": [
    "## Dictionary elements are always in the format of `key:value`\n",
    "## When you provide a key, the dictionary returns the value\n",
    "## To access a dictionary value, type the name of the dictionary followed by the key in square brackets"
   ]
  },
  {
   "cell_type": "code",
   "execution_count": 111,
   "id": "65e8382e",
   "metadata": {
    "slideshow": {
     "slide_type": "fragment"
    }
   },
   "outputs": [
    {
     "name": "stdout",
     "output_type": "stream",
     "text": [
      "german shepherd\n"
     ]
    }
   ],
   "source": [
    "dog_name_dict = {'sparky':'german shepherd', 'charlie':'terrier'}\n",
    "print(dog_name_dict['sparky'])"
   ]
  },
  {
   "cell_type": "markdown",
   "id": "10f262b9",
   "metadata": {
    "slideshow": {
     "slide_type": "subslide"
    }
   },
   "source": [
    "## like lists, dictionaries can hold any datatype "
   ]
  },
  {
   "cell_type": "code",
   "execution_count": 112,
   "id": "7ba4cdb2",
   "metadata": {
    "slideshow": {
     "slide_type": "fragment"
    }
   },
   "outputs": [
    {
     "name": "stdout",
     "output_type": "stream",
     "text": [
      "['santa cruz', 'san diego', 'santa barbara']\n"
     ]
    }
   ],
   "source": [
    "beach_cities = {'beachy_west_coast_cities':['santa cruz','san diego','santa barbara'],\n",
    "                 'beach_east_coast_cities':['miami','myrtle beach','orlando']}\n",
    "print(beach_cities['beachy_west_coast_cities'])"
   ]
  },
  {
   "cell_type": "markdown",
   "id": "c03453c8",
   "metadata": {
    "slideshow": {
     "slide_type": "slide"
    }
   },
   "source": [
    "# Create a dictionary where the keys are 3 UCs and the values are which city they're in\n",
    "## Print your favorite of the UCs"
   ]
  },
  {
   "cell_type": "code",
   "execution_count": 4,
   "id": "f462dc94",
   "metadata": {
    "slideshow": {
     "slide_type": "fragment"
    }
   },
   "outputs": [],
   "source": [
    "# your code here\n"
   ]
  },
  {
   "cell_type": "markdown",
   "id": "dc95946c",
   "metadata": {
    "slideshow": {
     "slide_type": "slide"
    }
   },
   "source": [
    "# Adding to a dictionary is similar to accessing a value in a dictionary"
   ]
  },
  {
   "cell_type": "code",
   "execution_count": 114,
   "id": "494aaae7",
   "metadata": {
    "slideshow": {
     "slide_type": "fragment"
    }
   },
   "outputs": [
    {
     "name": "stdout",
     "output_type": "stream",
     "text": [
      "yorkie\n"
     ]
    }
   ],
   "source": [
    "dog_name_dict = {'sparky':'german_shepherd', 'charlie':'terrier'}\n",
    "dog_name_dict['tommy'] = 'yorkie'\n",
    "print(dog_name_dict['tommy'])"
   ]
  },
  {
   "cell_type": "markdown",
   "id": "3f68b53d",
   "metadata": {
    "slideshow": {
     "slide_type": "slide"
    }
   },
   "source": [
    "## Add a dog breed (value) and its name (key) to `dog_name_dict`"
   ]
  },
  {
   "cell_type": "code",
   "execution_count": 5,
   "id": "12dd2329",
   "metadata": {
    "slideshow": {
     "slide_type": "fragment"
    }
   },
   "outputs": [],
   "source": [
    "# your code here\n"
   ]
  },
  {
   "cell_type": "markdown",
   "id": "d80b20f1",
   "metadata": {
    "slideshow": {
     "slide_type": "subslide"
    }
   },
   "source": [
    "# to access all of the keys in a dictionary, use the function `<dictionary>.keys()`\n",
    "## Print the keys in `dog_name_dict` below"
   ]
  },
  {
   "cell_type": "code",
   "execution_count": 6,
   "id": "fcfd94c3",
   "metadata": {
    "slideshow": {
     "slide_type": "fragment"
    }
   },
   "outputs": [],
   "source": [
    "# your code here\n"
   ]
  },
  {
   "cell_type": "markdown",
   "id": "3d6d63be",
   "metadata": {
    "slideshow": {
     "slide_type": "subslide"
    }
   },
   "source": [
    "# Dictionaries are used in bioinformatics to store sequence records\n",
    "## The command below reads a fasta file and stores its header as a key, and its sequence as a value"
   ]
  },
  {
   "cell_type": "code",
   "execution_count": 116,
   "id": "a814e521",
   "metadata": {
    "slideshow": {
     "slide_type": "fragment"
    }
   },
   "outputs": [],
   "source": [
    "import sys\n",
    "def read_fasta(path):\n",
    "    file = open(path, \"r\")\n",
    "    fasta = dict()\n",
    "    for line in file.readlines():\n",
    "        if line.startswith('>'):\n",
    "            entry = line.replace('>', '').strip()\n",
    "            fasta[entry] = ''\n",
    "        else:\n",
    "            fasta[entry] += ''.join(line.strip())\n",
    "    return(fasta)"
   ]
  },
  {
   "cell_type": "code",
   "execution_count": 117,
   "id": "6f678f5d",
   "metadata": {
    "slideshow": {
     "slide_type": "slide"
    }
   },
   "outputs": [],
   "source": [
    "new_fasta = read_fasta('/Users/vikas/Downloads/sbcc_slides/intro_python/vikas/teacher_slides/test.fasta')\n",
    "print(new_fasta)"
   ]
  },
  {
   "cell_type": "markdown",
   "id": "9a93d347",
   "metadata": {
    "slideshow": {
     "slide_type": "subslide"
    }
   },
   "source": [
    "# print the value for the key `'gene_2'` from the dictionary `new_fasta`"
   ]
  },
  {
   "cell_type": "code",
   "execution_count": 7,
   "id": "bcda3776",
   "metadata": {
    "slideshow": {
     "slide_type": "fragment"
    }
   },
   "outputs": [],
   "source": [
    "# your code here\n"
   ]
  },
  {
   "cell_type": "markdown",
   "id": "7dec7fd4",
   "metadata": {
    "slideshow": {
     "slide_type": "slide"
    }
   },
   "source": [
    "## Add the variable `new_sequence` to the dictionary `new_fasta` with the header `new header`\n",
    "## You may only use the variable names to do this\n"
   ]
  },
  {
   "cell_type": "code",
   "execution_count": 8,
   "id": "eb39a8c7",
   "metadata": {
    "slideshow": {
     "slide_type": "subslide"
    }
   },
   "outputs": [],
   "source": [
    "new_sequence = 'AUGUUAUUCUAUCUAGUUUCGGCUACUAGUUCAUGGUGUGUAACUAGUAUCA'\n",
    "new_header = 'test_header'\n",
    "# your code here \n"
   ]
  },
  {
   "cell_type": "markdown",
   "id": "b9d2eb4c",
   "metadata": {
    "slideshow": {
     "slide_type": "slide"
    }
   },
   "source": [
    "## Run your start codon finding function on `gene_1` from `new_fasta`"
   ]
  },
  {
   "cell_type": "code",
   "execution_count": 9,
   "id": "7986f60e",
   "metadata": {
    "slideshow": {
     "slide_type": "fragment"
    }
   },
   "outputs": [],
   "source": [
    "# your code here\n"
   ]
  },
  {
   "cell_type": "markdown",
   "id": "44bfabd5",
   "metadata": {
    "slideshow": {
     "slide_type": "slide"
    }
   },
   "source": [
    "# run your stop codon finder on all genes in `new_fasta`"
   ]
  },
  {
   "cell_type": "code",
   "execution_count": 10,
   "id": "47b9b9a2",
   "metadata": {
    "slideshow": {
     "slide_type": "fragment"
    }
   },
   "outputs": [],
   "source": [
    "# your code here \n"
   ]
  },
  {
   "cell_type": "code",
   "execution_count": null,
   "id": "8bbc7c6f",
   "metadata": {},
   "outputs": [],
   "source": []
  },
  {
   "cell_type": "code",
   "execution_count": null,
   "id": "31ff053e",
   "metadata": {},
   "outputs": [],
   "source": []
  }
 ],
 "metadata": {
  "celltoolbar": "Slideshow",
  "kernelspec": {
   "display_name": "Python 3 (ipykernel)",
   "language": "python",
   "name": "python3"
  },
  "language_info": {
   "codemirror_mode": {
    "name": "ipython",
    "version": 3
   },
   "file_extension": ".py",
   "mimetype": "text/x-python",
   "name": "python",
   "nbconvert_exporter": "python",
   "pygments_lexer": "ipython3",
   "version": "3.8.3"
  }
 },
 "nbformat": 4,
 "nbformat_minor": 5
}
