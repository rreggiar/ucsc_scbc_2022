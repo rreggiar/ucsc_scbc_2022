{
 "cells": [
  {
   "cell_type": "markdown",
   "id": "0c52c769",
   "metadata": {},
   "source": [
    "## Warm up: The code below creates a dictionary with the factorial of all numbers up to 50. The key is the number, and the value is its factorial.\n",
    "## What is the factorial of 10? \n",
    "## What is the factorial of 29? "
   ]
  },
  {
   "cell_type": "code",
   "execution_count": 5,
   "id": "f469ddaf",
   "metadata": {},
   "outputs": [
    {
     "name": "stdout",
     "output_type": "stream",
     "text": [
      "3628800\n",
      "8841761993739701954543616000000\n"
     ]
    }
   ],
   "source": [
    "# factorial generator\n",
    "import math\n",
    "factorial_values = {}\n",
    "for i in range(1,51):\n",
    "    dict_value = math.factorial(i)\n",
    "    factorial_values[i] = dict_value\n",
    "\n",
    "# your code here"
   ]
  },
  {
   "cell_type": "markdown",
   "id": "87790c41",
   "metadata": {},
   "source": [
    "## Warm up part 2: How do you add elements to a dictionary? "
   ]
  },
  {
   "cell_type": "code",
   "execution_count": 15,
   "id": "0024f08c",
   "metadata": {
    "slideshow": {
     "slide_type": "subslide"
    }
   },
   "outputs": [],
   "source": [
    "# codon finder functions\n",
    "def find_start_codons(sequence): \n",
    "    start_codon_list = []\n",
    "    sequence_length = len(sequence)\n",
    "    for position in range(0,sequence_length - 2):\n",
    "    # the letter is the letter at \"position\" in the sequence\n",
    "        codon = sequence[position:position+3]\n",
    "        if codon == 'AUG':   \n",
    "            start_codon_list.append(position)\n",
    "            # position is an int, so we have to typecase it to a string\n",
    "    return start_codon_list\n",
    "\n",
    "def find_stop_codons(sequence): \n",
    "    stop_codon_list = []\n",
    "    stop_codons = ['UGA','UAA','UAG']\n",
    "    sequence_length = len(sequence)\n",
    "    for position in range(0,sequence_length - 2):\n",
    "    # the letter is the letter at \"position\" in the sequence\n",
    "        codon = sequence[position:position+3]\n",
    "        if codon == stop_codons[0]:    \n",
    "            # position is an int, so we have to typecase it to a string\n",
    "            stop_codon_list.append(position)\n",
    "        elif codon == stop_codons[1]:    \n",
    "            # position is an int, so we have to typecase it to a string\n",
    "            stop_codon_list.append(position)\n",
    "        elif codon == stop_codons[2]:    \n",
    "            # position is an int, so we have to typecase it to a string\n",
    "            stop_codon_list.append(position)\n",
    "                # position is an int, so we have to typecase it to a string\n",
    "    return stop_codon_list\n"
   ]
  },
  {
   "cell_type": "code",
   "execution_count": 2,
   "id": "56f2de79",
   "metadata": {
    "slideshow": {
     "slide_type": "fragment"
    }
   },
   "outputs": [
    {
     "name": "stdout",
     "output_type": "stream",
     "text": [
      "[0, 79]\n",
      "[7, 16, 46, 55, 77, 80]\n"
     ]
    }
   ],
   "source": [
    "rna_sequence = 'AUGUUUUUGAUACUUUUAAUUUCCUUACCAACGGCUUUUGCUGUUAUAGGAGAUUUAAAGUGUACUACAGUUUCCAUUAAUGAU'\n",
    "print(find_start_codons(rna_sequence))\n",
    "print(find_stop_codons(rna_sequence))"
   ]
  },
  {
   "cell_type": "code",
   "execution_count": 11,
   "id": "6216631b",
   "metadata": {},
   "outputs": [],
   "source": [
    "# read fasta to variable new_fasta\n",
    "#new_fasta = read_fasta('/home/jovyan/python_notebooks/test.fasta')\n",
    "import sys\n",
    "def read_fasta(path):\n",
    "    file = open(path, \"r\")\n",
    "    fasta = dict()\n",
    "    for line in file.readlines():\n",
    "        if line.startswith('>'):\n",
    "            entry = line.replace('>', '').strip()\n",
    "            fasta[entry] = ''\n",
    "        else:\n",
    "            fasta[entry] += ''.join(line.strip())\n",
    "    return(fasta)\n",
    "new_fasta = read_fasta('/Users/vikas/Downloads/sbcc_slides/intro_python/vikas/teacher_slides/test.fasta')\n",
    "new_sequence = 'AUGUUAUUCUAUCUAGUUUCGGCUACUAGUUCAUGGUGUGUAACUAGUAUCA'\n",
    "new_header = 'test_header'\n",
    "new_fasta[new_header] = new_sequence"
   ]
  },
  {
   "cell_type": "markdown",
   "id": "516fc3d1",
   "metadata": {
    "slideshow": {
     "slide_type": "slide"
    }
   },
   "source": [
    "## Run your start codon finding function on `gene_1` from `new_fasta`"
   ]
  },
  {
   "cell_type": "code",
   "execution_count": 7,
   "id": "6e47cfdc",
   "metadata": {
    "slideshow": {
     "slide_type": "fragment"
    }
   },
   "outputs": [
    {
     "data": {
      "text/plain": [
       "[31,\n",
       " 34,\n",
       " 82,\n",
       " 168,\n",
       " 182,\n",
       " 213,\n",
       " 316,\n",
       " 483,\n",
       " 501,\n",
       " 521,\n",
       " 611,\n",
       " 616,\n",
       " 631,\n",
       " 787,\n",
       " 824,\n",
       " 833,\n",
       " 903,\n",
       " 959,\n",
       " 984,\n",
       " 1038,\n",
       " 1086,\n",
       " 1134,\n",
       " 1245,\n",
       " 1273,\n",
       " 1381,\n",
       " 1489,\n",
       " 1826]"
      ]
     },
     "execution_count": 7,
     "metadata": {},
     "output_type": "execute_result"
    }
   ],
   "source": [
    "# your code here"
   ]
  },
  {
   "cell_type": "markdown",
   "id": "bd15f189",
   "metadata": {},
   "source": [
    "## the `.keys()` function lets you check all of the keys in a dictionary\n",
    "## When would this be helpful?\n"
   ]
  },
  {
   "cell_type": "code",
   "execution_count": 6,
   "id": "d219e936",
   "metadata": {},
   "outputs": [
    {
     "name": "stdout",
     "output_type": "stream",
     "text": [
      "dict_keys([1, 2, 3, 4, 5, 6, 7, 8, 9, 10, 11, 12, 13, 14, 15, 16, 17, 18, 19, 20, 21, 22, 23, 24, 25, 26, 27, 28, 29, 30, 31, 32, 33, 34, 35, 36, 37, 38, 39, 40, 41, 42, 43, 44, 45, 46, 47, 48, 49, 50])\n"
     ]
    }
   ],
   "source": [
    "print(factorial_values.keys())"
   ]
  },
  {
   "cell_type": "markdown",
   "id": "d4b6cf7b",
   "metadata": {},
   "source": [
    "# what are all of the keys in `new_fasta`?"
   ]
  },
  {
   "cell_type": "code",
   "execution_count": 12,
   "id": "508fdf02",
   "metadata": {},
   "outputs": [
    {
     "name": "stdout",
     "output_type": "stream",
     "text": [
      "dict_keys(['gene_1', 'gene_2', 'test_header'])\n"
     ]
    }
   ],
   "source": [
    "# your code here"
   ]
  },
  {
   "cell_type": "markdown",
   "id": "7ced56ed",
   "metadata": {
    "slideshow": {
     "slide_type": "slide"
    }
   },
   "source": [
    "# run your stop codon finder on all genes in `new_fasta`\n",
    "## hint: you can iterate on the dictionary keys in a for loop! "
   ]
  },
  {
   "cell_type": "code",
   "execution_count": 17,
   "id": "d867516d",
   "metadata": {
    "slideshow": {
     "slide_type": "fragment"
    }
   },
   "outputs": [
    {
     "name": "stdout",
     "output_type": "stream",
     "text": [
      "[1, 32, 53, 68, 79, 92, 97, 157, 169, 179, 190, 221, 239, 265, 275, 292, 317, 325, 337, 350, 359, 377, 390, 414, 431, 453, 484, 499, 502, 513, 542, 559, 584, 632, 637, 698, 701, 751, 779, 825, 839, 868, 882, 899, 956, 966, 994, 1015, 1048, 1056, 1083, 1091, 1117, 1135, 1140, 1219, 1243, 1252, 1259, 1289, 1310, 1330, 1339, 1360, 1409, 1435, 1454, 1472, 1543, 1554, 1562, 1575, 1613, 1616, 1632, 1664, 1681, 1695, 1700, 1704, 1711, 1716, 1766, 1774, 1782, 1800, 1813, 1847, 1864, 1911]\n",
      "[4, 19, 22, 33, 62, 79, 104, 152, 157, 218, 221, 271, 299, 345, 359, 388, 402, 419, 476, 486, 514, 535, 568, 576, 603, 611, 637, 655, 660, 739, 763, 772, 779, 809, 830, 850, 859, 880, 929, 955, 974, 992, 1063, 1074, 1082, 1095, 1133, 1136, 1152, 1184, 1201, 1215, 1220, 1224, 1231, 1236, 1286, 1294, 1302, 1320, 1333, 1367, 1384, 1431]\n",
      "[13, 26, 40, 44]\n"
     ]
    }
   ],
   "source": [
    "# your code here "
   ]
  },
  {
   "cell_type": "markdown",
   "id": "79b66b7a",
   "metadata": {},
   "source": [
    "## Challenge: run your start codon finder on all genes in your OLD fasta from the bash lessons"
   ]
  },
  {
   "cell_type": "code",
   "execution_count": null,
   "id": "9b0dfc88",
   "metadata": {},
   "outputs": [],
   "source": []
  },
  {
   "cell_type": "code",
   "execution_count": null,
   "id": "ccded0a0",
   "metadata": {},
   "outputs": [],
   "source": []
  }
 ],
 "metadata": {
  "celltoolbar": "Slideshow",
  "kernelspec": {
   "display_name": "Python 3 (ipykernel)",
   "language": "python",
   "name": "python3"
  },
  "language_info": {
   "codemirror_mode": {
    "name": "ipython",
    "version": 3
   },
   "file_extension": ".py",
   "mimetype": "text/x-python",
   "name": "python",
   "nbconvert_exporter": "python",
   "pygments_lexer": "ipython3",
   "version": "3.8.3"
  }
 },
 "nbformat": 4,
 "nbformat_minor": 5
}
