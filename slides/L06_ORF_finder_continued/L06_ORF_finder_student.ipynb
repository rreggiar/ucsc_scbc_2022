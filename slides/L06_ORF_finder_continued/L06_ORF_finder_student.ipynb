{
 "cells": [
  {
   "cell_type": "markdown",
   "id": "25759d81",
   "metadata": {},
   "source": [
    "## Warm up: The code below creates a dictionary with the factorial of all numbers up to 50. The key is the number, and the value is its factorial.\n",
    "## What is the factorial of 10? \n",
    "## What is the factorial of 29? "
   ]
  },
  {
   "cell_type": "code",
   "execution_count": 2,
   "id": "9f101e10",
   "metadata": {},
   "outputs": [],
   "source": [
    "# factorial generator\n",
    "import math\n",
    "factorial_values = {}\n",
    "for i in range(1,51):\n",
    "    dict_value = math.factorial(i)\n",
    "    factorial_values[i] = dict_value\n",
    "\n",
    "# your code here"
   ]
  },
  {
   "cell_type": "markdown",
   "id": "a21d4c02",
   "metadata": {},
   "source": [
    "## Warm up part 2: How do you add elements to a dictionary? "
   ]
  },
  {
   "cell_type": "code",
   "execution_count": 3,
   "id": "2ed0a661",
   "metadata": {
    "slideshow": {
     "slide_type": "subslide"
    }
   },
   "outputs": [],
   "source": [
    "# codon finder functions\n",
    "def find_start_codons(sequence): \n",
    "    start_codon_list = []\n",
    "    sequence_length = len(sequence)\n",
    "    for position in range(0,sequence_length - 2):\n",
    "    # the letter is the letter at \"position\" in the sequence\n",
    "        codon = sequence[position:position+3]\n",
    "        if codon == 'AUG':   \n",
    "            start_codon_list.append(position)\n",
    "            # position is an int, so we have to typecase it to a string\n",
    "    return start_codon_list\n",
    "\n",
    "def find_stop_codons(sequence): \n",
    "    stop_codon_list = []\n",
    "    stop_codons = ['UGA','UAA','UAG']\n",
    "    sequence_length = len(sequence)\n",
    "    for position in range(0,sequence_length - 2):\n",
    "    # the letter is the letter at \"position\" in the sequence\n",
    "        codon = sequence[position:position+3]\n",
    "        if codon == stop_codons[0]:    \n",
    "            # position is an int, so we have to typecase it to a string\n",
    "            stop_codon_list.append(position)\n",
    "        elif codon == stop_codons[1]:    \n",
    "            # position is an int, so we have to typecase it to a string\n",
    "            stop_codon_list.append(position)\n",
    "        elif codon == stop_codons[2]:    \n",
    "            # position is an int, so we have to typecase it to a string\n",
    "            stop_codon_list.append(position)\n",
    "                # position is an int, so we have to typecase it to a string\n",
    "    return stop_codon_list\n"
   ]
  },
  {
   "cell_type": "code",
   "execution_count": 4,
   "id": "d428709f",
   "metadata": {
    "slideshow": {
     "slide_type": "fragment"
    }
   },
   "outputs": [
    {
     "name": "stdout",
     "output_type": "stream",
     "text": [
      "[0, 79]\n",
      "[7, 16, 46, 55, 77, 80]\n"
     ]
    }
   ],
   "source": [
    "rna_sequence = 'AUGUUUUUGAUACUUUUAAUUUCCUUACCAACGGCUUUUGCUGUUAUAGGAGAUUUAAAGUGUACUACAGUUUCCAUUAAUGAU'\n",
    "print(find_start_codons(rna_sequence))\n",
    "print(find_stop_codons(rna_sequence))"
   ]
  },
  {
   "cell_type": "code",
   "execution_count": 5,
   "id": "aab4cb46",
   "metadata": {},
   "outputs": [],
   "source": [
    "# read fasta to variable new_fasta\n",
    "#new_fasta = read_fasta('/home/jovyan/python_notebooks/test.fasta')\n",
    "import sys\n",
    "def read_fasta(path):\n",
    "    file = open(path, \"r\")\n",
    "    fasta = dict()\n",
    "    for line in file.readlines():\n",
    "        if line.startswith('>'):\n",
    "            entry = line.replace('>', '').strip()\n",
    "            fasta[entry] = ''\n",
    "        else:\n",
    "            fasta[entry] += ''.join(line.strip())\n",
    "    return(fasta)\n",
    "new_fasta = read_fasta('/Users/vikas/Downloads/sbcc_slides/intro_python/vikas/teacher_slides/test.fasta')\n",
    "new_sequence = 'AUGUUAUUCUAUCUAGUUUCGGCUACUAGUUCAUGGUGUGUAACUAGUAUCA'\n",
    "new_header = 'test_header'\n",
    "new_fasta[new_header] = new_sequence"
   ]
  },
  {
   "cell_type": "markdown",
   "id": "c3923ade",
   "metadata": {
    "slideshow": {
     "slide_type": "slide"
    }
   },
   "source": [
    "## Run your start codon finding function on `gene_1` from `new_fasta`"
   ]
  },
  {
   "cell_type": "code",
   "execution_count": 6,
   "id": "d1958517",
   "metadata": {
    "slideshow": {
     "slide_type": "fragment"
    }
   },
   "outputs": [],
   "source": [
    "# your code here"
   ]
  },
  {
   "cell_type": "markdown",
   "id": "7762346a",
   "metadata": {},
   "source": [
    "## the `.keys()` function lets you check all of the keys in a dictionary\n",
    "## When would this be helpful?\n"
   ]
  },
  {
   "cell_type": "code",
   "execution_count": 7,
   "id": "2707dcbd",
   "metadata": {},
   "outputs": [
    {
     "name": "stdout",
     "output_type": "stream",
     "text": [
      "dict_keys([1, 2, 3, 4, 5, 6, 7, 8, 9, 10, 11, 12, 13, 14, 15, 16, 17, 18, 19, 20, 21, 22, 23, 24, 25, 26, 27, 28, 29, 30, 31, 32, 33, 34, 35, 36, 37, 38, 39, 40, 41, 42, 43, 44, 45, 46, 47, 48, 49, 50])\n"
     ]
    }
   ],
   "source": [
    "print(factorial_values.keys())"
   ]
  },
  {
   "cell_type": "markdown",
   "id": "e15867af",
   "metadata": {},
   "source": [
    "# what are all of the keys in `new_fasta`?"
   ]
  },
  {
   "cell_type": "code",
   "execution_count": 8,
   "id": "41daa635",
   "metadata": {},
   "outputs": [],
   "source": [
    "# your code here"
   ]
  },
  {
   "cell_type": "markdown",
   "id": "657c7933",
   "metadata": {
    "slideshow": {
     "slide_type": "slide"
    }
   },
   "source": [
    "# run your stop codon finder on all genes in `new_fasta`\n",
    "## hint: you can iterate on the dictionary keys in a for loop! "
   ]
  },
  {
   "cell_type": "code",
   "execution_count": 9,
   "id": "08f2f048",
   "metadata": {
    "slideshow": {
     "slide_type": "fragment"
    }
   },
   "outputs": [],
   "source": [
    "# your code here "
   ]
  },
  {
   "cell_type": "markdown",
   "id": "3dca8f7d",
   "metadata": {},
   "source": [
    "## Challenge: run your start codon finder on all genes in your OLD fasta from the bash lessons"
   ]
  },
  {
   "cell_type": "code",
   "execution_count": 10,
   "id": "89276af5",
   "metadata": {},
   "outputs": [],
   "source": [
    "# your code here"
   ]
  },
  {
   "cell_type": "code",
   "execution_count": null,
   "id": "7d25cc21",
   "metadata": {},
   "outputs": [],
   "source": []
  }
 ],
 "metadata": {
  "celltoolbar": "Slideshow",
  "kernelspec": {
   "display_name": "Python 3 (ipykernel)",
   "language": "python",
   "name": "python3"
  },
  "language_info": {
   "codemirror_mode": {
    "name": "ipython",
    "version": 3
   },
   "file_extension": ".py",
   "mimetype": "text/x-python",
   "name": "python",
   "nbconvert_exporter": "python",
   "pygments_lexer": "ipython3",
   "version": "3.8.3"
  }
 },
 "nbformat": 4,
 "nbformat_minor": 5
}
